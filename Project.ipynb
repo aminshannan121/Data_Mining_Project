{
 "cells": [
  {
   "cell_type": "markdown",
   "id": "b8269559",
   "metadata": {},
   "source": [
    "# Project\n",
    "#### Group Members\n",
    "\n",
    "| ID | Name | \n",
    "|----------|----------|\n",
    "|1191302190|Amin Ahmed Mohammedelhassan Alawad|\n",
    "|1191202335|Ayat Abdulaziz Gaber Al-Khulaqi|\n",
    "|1191202539|Iven Low Zi Yin |\n",
    "\n"
   ]
  },
  {
   "cell_type": "markdown",
   "id": "4213de26",
   "metadata": {},
   "source": [
    "# Reqiurement  \n",
    "\n",
    "**To discover hidden patterns, your work should incorporate at least:**\n",
    "\n",
    "- 3 classification techniques\n",
    "- 1 clustering technique\n",
    "- 1 association rule mining technique\n",
    "\n",
    "\n",
    "\n",
    "# Structure\n",
    "**the code should apply all the below pionts:**\n",
    "\n",
    " - Planning of code and analysis\n",
    " - Exploratory data analysis\n",
    " - Reasoning about data and model chosen\n",
    " - Programming execution and reproducibility of results\n",
    " - Programming Clarity\n",
    " \n",
    "**temporarily cell**"
   ]
  },
  {
   "cell_type": "markdown",
   "id": "bb6b98f1",
   "metadata": {},
   "source": [
    "## Importing libraries"
   ]
  },
  {
   "cell_type": "markdown",
   "id": "76f473ae",
   "metadata": {},
   "source": [
    "General libraries"
   ]
  },
  {
   "cell_type": "code",
   "execution_count": 1,
   "id": "ba3ea18c",
   "metadata": {},
   "outputs": [],
   "source": [
    "import pandas as pd\n",
    "import numpy as np\n",
    "import matplotlib.pyplot as plt\n",
    "import seaborn as sns\n",
    "from matplotlib import cm"
   ]
  },
  {
   "cell_type": "markdown",
   "id": "0d1a983d",
   "metadata": {},
   "source": [
    "Skew calculation Library"
   ]
  },
  {
   "cell_type": "code",
   "execution_count": 2,
   "id": "312612b4",
   "metadata": {},
   "outputs": [],
   "source": [
    "from scipy.stats import skew"
   ]
  },
  {
   "cell_type": "markdown",
   "id": "37cc6e3d",
   "metadata": {},
   "source": [
    "Muchine Learing libararies"
   ]
  },
  {
   "cell_type": "code",
   "execution_count": 3,
   "id": "58791da5",
   "metadata": {},
   "outputs": [],
   "source": [
    "from sklearn.feature_selection import RFE\n",
    "from sklearn.linear_model import LinearRegression\n",
    "from sklearn.cluster import KMeans\n",
    "from sklearn.tree import DecisionTreeClassifier\n",
    "from sklearn.svm import SVC\n",
    "from sklearn.naive_bayes import GaussianNB\n",
    "import pyfpgrowth"
   ]
  },
  {
   "cell_type": "markdown",
   "id": "cfa2d416",
   "metadata": {},
   "source": [
    "Evaluation libararies"
   ]
  },
  {
   "cell_type": "code",
   "execution_count": 4,
   "id": "6ad33e9f",
   "metadata": {},
   "outputs": [],
   "source": [
    "from sklearn.model_selection import cross_val_score\n",
    "from sklearn.model_selection import train_test_split\n",
    "from sklearn.metrics import accuracy_score, precision_score, recall_score, f1_score, confusion_matrix\n",
    "from sklearn.metrics import silhouette_score\n",
    "from sklearn.metrics import silhouette_samples"
   ]
  },
  {
   "cell_type": "markdown",
   "id": "14788e2b",
   "metadata": {},
   "source": [
    "Map Libararies"
   ]
  },
  {
   "cell_type": "code",
   "execution_count": 5,
   "id": "69f7e833",
   "metadata": {},
   "outputs": [],
   "source": [
    "import folium\n",
    "from folium.plugins import MarkerCluster\n",
    "from geopy.geocoders import Nominatim"
   ]
  },
  {
   "cell_type": "markdown",
   "id": "96ccb369",
   "metadata": {},
   "source": [
    "#### Reading the data"
   ]
  },
  {
   "cell_type": "code",
   "execution_count": 6,
   "id": "08663061",
   "metadata": {},
   "outputs": [],
   "source": [
    "df = pd.read_csv(\"msr3.csv\")"
   ]
  },
  {
   "cell_type": "markdown",
   "id": "2c876a6b-bec6-4a25-aea1-86394bd240c7",
   "metadata": {},
   "source": [
    "#### Data Types"
   ]
  },
  {
   "cell_type": "code",
   "execution_count": 7,
   "id": "57374824-fda7-4059-ab29-25a5f68f4659",
   "metadata": {},
   "outputs": [
    {
     "data": {
      "text/plain": [
       "country     object\n",
       "gender       int64\n",
       "age        float64\n",
       "yr_mrr     float64\n",
       "chd          int64\n",
       "chda         int64\n",
       "edu          int64\n",
       "physio       int64\n",
       "raf         object\n",
       "rel          int64\n",
       "safety       int64\n",
       "love4        int64\n",
       "happy        int64\n",
       "esteem2      int64\n",
       "love5        int64\n",
       "love3        int64\n",
       "esteem1      int64\n",
       "sact         int64\n",
       "love2        int64\n",
       "love1        int64\n",
       "ms1          int64\n",
       "ms2          int64\n",
       "ms3          int64\n",
       "scoll1       int64\n",
       "scoll2       int64\n",
       "scoll3       int64\n",
       "scoll4       int64\n",
       "icoll1       int64\n",
       "icoll2       int64\n",
       "icoll3       int64\n",
       "icoll4       int64\n",
       "dtype: object"
      ]
     },
     "execution_count": 7,
     "metadata": {},
     "output_type": "execute_result"
    }
   ],
   "source": [
    "df.dtypes"
   ]
  },
  {
   "cell_type": "markdown",
   "id": "13772c9e",
   "metadata": {},
   "source": [
    "# Overview"
   ]
  },
  {
   "cell_type": "code",
   "execution_count": 8,
   "id": "c99e21ec",
   "metadata": {},
   "outputs": [
    {
     "data": {
      "text/plain": [
       "(7178, 31)"
      ]
     },
     "execution_count": 8,
     "metadata": {},
     "output_type": "execute_result"
    }
   ],
   "source": [
    "df.shape"
   ]
  },
  {
   "cell_type": "code",
   "execution_count": 9,
   "id": "55c6860f",
   "metadata": {},
   "outputs": [
    {
     "data": {
      "text/html": [
       "<div>\n",
       "<style scoped>\n",
       "    .dataframe tbody tr th:only-of-type {\n",
       "        vertical-align: middle;\n",
       "    }\n",
       "\n",
       "    .dataframe tbody tr th {\n",
       "        vertical-align: top;\n",
       "    }\n",
       "\n",
       "    .dataframe thead th {\n",
       "        text-align: right;\n",
       "    }\n",
       "</style>\n",
       "<table border=\"1\" class=\"dataframe\">\n",
       "  <thead>\n",
       "    <tr style=\"text-align: right;\">\n",
       "      <th></th>\n",
       "      <th>country</th>\n",
       "      <th>gender</th>\n",
       "      <th>age</th>\n",
       "      <th>yr_mrr</th>\n",
       "      <th>chd</th>\n",
       "      <th>chda</th>\n",
       "      <th>edu</th>\n",
       "      <th>physio</th>\n",
       "      <th>raf</th>\n",
       "      <th>rel</th>\n",
       "      <th>...</th>\n",
       "      <th>ms2</th>\n",
       "      <th>ms3</th>\n",
       "      <th>scoll1</th>\n",
       "      <th>scoll2</th>\n",
       "      <th>scoll3</th>\n",
       "      <th>scoll4</th>\n",
       "      <th>icoll1</th>\n",
       "      <th>icoll2</th>\n",
       "      <th>icoll3</th>\n",
       "      <th>icoll4</th>\n",
       "    </tr>\n",
       "  </thead>\n",
       "  <tbody>\n",
       "    <tr>\n",
       "      <th>0</th>\n",
       "      <td>Brazil</td>\n",
       "      <td>1</td>\n",
       "      <td>21.0</td>\n",
       "      <td>2.0</td>\n",
       "      <td>0</td>\n",
       "      <td>0</td>\n",
       "      <td>5</td>\n",
       "      <td>3</td>\n",
       "      <td>1</td>\n",
       "      <td>4</td>\n",
       "      <td>...</td>\n",
       "      <td>1</td>\n",
       "      <td>1</td>\n",
       "      <td>1</td>\n",
       "      <td>1</td>\n",
       "      <td>1</td>\n",
       "      <td>1</td>\n",
       "      <td>1</td>\n",
       "      <td>1</td>\n",
       "      <td>1</td>\n",
       "      <td>1</td>\n",
       "    </tr>\n",
       "    <tr>\n",
       "      <th>1</th>\n",
       "      <td>Brazil</td>\n",
       "      <td>1</td>\n",
       "      <td>29.0</td>\n",
       "      <td>3.0</td>\n",
       "      <td>1</td>\n",
       "      <td>0</td>\n",
       "      <td>5</td>\n",
       "      <td>3</td>\n",
       "      <td>1</td>\n",
       "      <td>2</td>\n",
       "      <td>...</td>\n",
       "      <td>2</td>\n",
       "      <td>2</td>\n",
       "      <td>2</td>\n",
       "      <td>1</td>\n",
       "      <td>1</td>\n",
       "      <td>1</td>\n",
       "      <td>1</td>\n",
       "      <td>1</td>\n",
       "      <td>1</td>\n",
       "      <td>1</td>\n",
       "    </tr>\n",
       "    <tr>\n",
       "      <th>2</th>\n",
       "      <td>Brazil</td>\n",
       "      <td>1</td>\n",
       "      <td>30.0</td>\n",
       "      <td>7.0</td>\n",
       "      <td>0</td>\n",
       "      <td>0</td>\n",
       "      <td>5</td>\n",
       "      <td>3</td>\n",
       "      <td>1</td>\n",
       "      <td>4</td>\n",
       "      <td>...</td>\n",
       "      <td>1</td>\n",
       "      <td>1</td>\n",
       "      <td>2</td>\n",
       "      <td>1</td>\n",
       "      <td>2</td>\n",
       "      <td>1</td>\n",
       "      <td>1</td>\n",
       "      <td>1</td>\n",
       "      <td>1</td>\n",
       "      <td>1</td>\n",
       "    </tr>\n",
       "    <tr>\n",
       "      <th>3</th>\n",
       "      <td>Brazil</td>\n",
       "      <td>1</td>\n",
       "      <td>30.0</td>\n",
       "      <td>7.0</td>\n",
       "      <td>1</td>\n",
       "      <td>1</td>\n",
       "      <td>5</td>\n",
       "      <td>3</td>\n",
       "      <td>1</td>\n",
       "      <td>2</td>\n",
       "      <td>...</td>\n",
       "      <td>2</td>\n",
       "      <td>2</td>\n",
       "      <td>3</td>\n",
       "      <td>1</td>\n",
       "      <td>1</td>\n",
       "      <td>2</td>\n",
       "      <td>1</td>\n",
       "      <td>1</td>\n",
       "      <td>1</td>\n",
       "      <td>1</td>\n",
       "    </tr>\n",
       "    <tr>\n",
       "      <th>4</th>\n",
       "      <td>Brazil</td>\n",
       "      <td>1</td>\n",
       "      <td>28.0</td>\n",
       "      <td>9.0</td>\n",
       "      <td>0</td>\n",
       "      <td>0</td>\n",
       "      <td>4</td>\n",
       "      <td>2</td>\n",
       "      <td>1</td>\n",
       "      <td>3</td>\n",
       "      <td>...</td>\n",
       "      <td>2</td>\n",
       "      <td>1</td>\n",
       "      <td>3</td>\n",
       "      <td>2</td>\n",
       "      <td>3</td>\n",
       "      <td>2</td>\n",
       "      <td>1</td>\n",
       "      <td>1</td>\n",
       "      <td>1</td>\n",
       "      <td>1</td>\n",
       "    </tr>\n",
       "  </tbody>\n",
       "</table>\n",
       "<p>5 rows × 31 columns</p>\n",
       "</div>"
      ],
      "text/plain": [
       "  country  gender   age  yr_mrr  chd  chda  edu  physio raf  rel  ...  ms2  \\\n",
       "0  Brazil       1  21.0     2.0    0     0    5       3   1    4  ...    1   \n",
       "1  Brazil       1  29.0     3.0    1     0    5       3   1    2  ...    2   \n",
       "2  Brazil       1  30.0     7.0    0     0    5       3   1    4  ...    1   \n",
       "3  Brazil       1  30.0     7.0    1     1    5       3   1    2  ...    2   \n",
       "4  Brazil       1  28.0     9.0    0     0    4       2   1    3  ...    2   \n",
       "\n",
       "   ms3  scoll1  scoll2  scoll3  scoll4  icoll1  icoll2  icoll3  icoll4  \n",
       "0    1       1       1       1       1       1       1       1       1  \n",
       "1    2       2       1       1       1       1       1       1       1  \n",
       "2    1       2       1       2       1       1       1       1       1  \n",
       "3    2       3       1       1       2       1       1       1       1  \n",
       "4    1       3       2       3       2       1       1       1       1  \n",
       "\n",
       "[5 rows x 31 columns]"
      ]
     },
     "execution_count": 9,
     "metadata": {},
     "output_type": "execute_result"
    }
   ],
   "source": [
    "df.head()"
   ]
  },
  {
   "cell_type": "code",
   "execution_count": 10,
   "id": "a7322352",
   "metadata": {
    "scrolled": true
   },
   "outputs": [
    {
     "data": {
      "text/html": [
       "<div>\n",
       "<style scoped>\n",
       "    .dataframe tbody tr th:only-of-type {\n",
       "        vertical-align: middle;\n",
       "    }\n",
       "\n",
       "    .dataframe tbody tr th {\n",
       "        vertical-align: top;\n",
       "    }\n",
       "\n",
       "    .dataframe thead th {\n",
       "        text-align: right;\n",
       "    }\n",
       "</style>\n",
       "<table border=\"1\" class=\"dataframe\">\n",
       "  <thead>\n",
       "    <tr style=\"text-align: right;\">\n",
       "      <th></th>\n",
       "      <th>country</th>\n",
       "      <th>gender</th>\n",
       "      <th>age</th>\n",
       "      <th>yr_mrr</th>\n",
       "      <th>chd</th>\n",
       "      <th>chda</th>\n",
       "      <th>edu</th>\n",
       "      <th>physio</th>\n",
       "      <th>raf</th>\n",
       "      <th>rel</th>\n",
       "      <th>...</th>\n",
       "      <th>ms2</th>\n",
       "      <th>ms3</th>\n",
       "      <th>scoll1</th>\n",
       "      <th>scoll2</th>\n",
       "      <th>scoll3</th>\n",
       "      <th>scoll4</th>\n",
       "      <th>icoll1</th>\n",
       "      <th>icoll2</th>\n",
       "      <th>icoll3</th>\n",
       "      <th>icoll4</th>\n",
       "    </tr>\n",
       "  </thead>\n",
       "  <tbody>\n",
       "    <tr>\n",
       "      <th>7173</th>\n",
       "      <td>Uganda</td>\n",
       "      <td>1</td>\n",
       "      <td>32.0</td>\n",
       "      <td>7.0</td>\n",
       "      <td>2</td>\n",
       "      <td>3</td>\n",
       "      <td>5</td>\n",
       "      <td>1</td>\n",
       "      <td>10</td>\n",
       "      <td>4</td>\n",
       "      <td>...</td>\n",
       "      <td>3</td>\n",
       "      <td>3</td>\n",
       "      <td>2</td>\n",
       "      <td>2</td>\n",
       "      <td>2</td>\n",
       "      <td>7</td>\n",
       "      <td>2</td>\n",
       "      <td>2</td>\n",
       "      <td>2</td>\n",
       "      <td>7</td>\n",
       "    </tr>\n",
       "    <tr>\n",
       "      <th>7174</th>\n",
       "      <td>Uganda</td>\n",
       "      <td>1</td>\n",
       "      <td>36.0</td>\n",
       "      <td>6.0</td>\n",
       "      <td>4</td>\n",
       "      <td>4</td>\n",
       "      <td>5</td>\n",
       "      <td>3</td>\n",
       "      <td></td>\n",
       "      <td>4</td>\n",
       "      <td>...</td>\n",
       "      <td>2</td>\n",
       "      <td>2</td>\n",
       "      <td>2</td>\n",
       "      <td>2</td>\n",
       "      <td>2</td>\n",
       "      <td>3</td>\n",
       "      <td>3</td>\n",
       "      <td>2</td>\n",
       "      <td>1</td>\n",
       "      <td>1</td>\n",
       "    </tr>\n",
       "    <tr>\n",
       "      <th>7175</th>\n",
       "      <td>Uganda</td>\n",
       "      <td>1</td>\n",
       "      <td>32.0</td>\n",
       "      <td>2.0</td>\n",
       "      <td>1</td>\n",
       "      <td>1</td>\n",
       "      <td>5</td>\n",
       "      <td>2</td>\n",
       "      <td></td>\n",
       "      <td>1</td>\n",
       "      <td>...</td>\n",
       "      <td>1</td>\n",
       "      <td>1</td>\n",
       "      <td>1</td>\n",
       "      <td>1</td>\n",
       "      <td>4</td>\n",
       "      <td>2</td>\n",
       "      <td>1</td>\n",
       "      <td>2</td>\n",
       "      <td>4</td>\n",
       "      <td>2</td>\n",
       "    </tr>\n",
       "    <tr>\n",
       "      <th>7176</th>\n",
       "      <td>Uganda</td>\n",
       "      <td>1</td>\n",
       "      <td>27.0</td>\n",
       "      <td>3.0</td>\n",
       "      <td>2</td>\n",
       "      <td>2</td>\n",
       "      <td>5</td>\n",
       "      <td>2</td>\n",
       "      <td></td>\n",
       "      <td>1</td>\n",
       "      <td>...</td>\n",
       "      <td>1</td>\n",
       "      <td>2</td>\n",
       "      <td>1</td>\n",
       "      <td>2</td>\n",
       "      <td>3</td>\n",
       "      <td>4</td>\n",
       "      <td>3</td>\n",
       "      <td>3</td>\n",
       "      <td>2</td>\n",
       "      <td>3</td>\n",
       "    </tr>\n",
       "    <tr>\n",
       "      <th>7177</th>\n",
       "      <td>Uganda</td>\n",
       "      <td>1</td>\n",
       "      <td>53.0</td>\n",
       "      <td>24.0</td>\n",
       "      <td>6</td>\n",
       "      <td>1</td>\n",
       "      <td>5</td>\n",
       "      <td>3</td>\n",
       "      <td></td>\n",
       "      <td>2</td>\n",
       "      <td>...</td>\n",
       "      <td>3</td>\n",
       "      <td>3</td>\n",
       "      <td>1</td>\n",
       "      <td>1</td>\n",
       "      <td>2</td>\n",
       "      <td>3</td>\n",
       "      <td>1</td>\n",
       "      <td>1</td>\n",
       "      <td>2</td>\n",
       "      <td>5</td>\n",
       "    </tr>\n",
       "  </tbody>\n",
       "</table>\n",
       "<p>5 rows × 31 columns</p>\n",
       "</div>"
      ],
      "text/plain": [
       "     country  gender   age  yr_mrr  chd  chda  edu  physio raf  rel  ...  ms2  \\\n",
       "7173  Uganda       1  32.0     7.0    2     3    5       1  10    4  ...    3   \n",
       "7174  Uganda       1  36.0     6.0    4     4    5       3        4  ...    2   \n",
       "7175  Uganda       1  32.0     2.0    1     1    5       2        1  ...    1   \n",
       "7176  Uganda       1  27.0     3.0    2     2    5       2        1  ...    1   \n",
       "7177  Uganda       1  53.0    24.0    6     1    5       3        2  ...    3   \n",
       "\n",
       "      ms3  scoll1  scoll2  scoll3  scoll4  icoll1  icoll2  icoll3  icoll4  \n",
       "7173    3       2       2       2       7       2       2       2       7  \n",
       "7174    2       2       2       2       3       3       2       1       1  \n",
       "7175    1       1       1       4       2       1       2       4       2  \n",
       "7176    2       1       2       3       4       3       3       2       3  \n",
       "7177    3       1       1       2       3       1       1       2       5  \n",
       "\n",
       "[5 rows x 31 columns]"
      ]
     },
     "execution_count": 10,
     "metadata": {},
     "output_type": "execute_result"
    }
   ],
   "source": [
    "df.tail()"
   ]
  },
  {
   "cell_type": "markdown",
   "id": "ce60a24c",
   "metadata": {},
   "source": [
    "---\n",
    "# Data Cleaning and Preprocessing"
   ]
  },
  {
   "cell_type": "markdown",
   "id": "0ac2c704",
   "metadata": {},
   "source": [
    "## Overview of the data"
   ]
  },
  {
   "cell_type": "code",
   "execution_count": 11,
   "id": "7bac8f06",
   "metadata": {},
   "outputs": [
    {
     "name": "stdout",
     "output_type": "stream",
     "text": [
      "<class 'pandas.core.frame.DataFrame'>\n",
      "RangeIndex: 7178 entries, 0 to 7177\n",
      "Data columns (total 31 columns):\n",
      " #   Column   Non-Null Count  Dtype  \n",
      "---  ------   --------------  -----  \n",
      " 0   country  7178 non-null   object \n",
      " 1   gender   7178 non-null   int64  \n",
      " 2   age      7178 non-null   float64\n",
      " 3   yr_mrr   7178 non-null   float64\n",
      " 4   chd      7178 non-null   int64  \n",
      " 5   chda     7178 non-null   int64  \n",
      " 6   edu      7178 non-null   int64  \n",
      " 7   physio   7178 non-null   int64  \n",
      " 8   raf      7178 non-null   object \n",
      " 9   rel      7178 non-null   int64  \n",
      " 10  safety   7178 non-null   int64  \n",
      " 11  love4    7178 non-null   int64  \n",
      " 12  happy    7178 non-null   int64  \n",
      " 13  esteem2  7178 non-null   int64  \n",
      " 14  love5    7178 non-null   int64  \n",
      " 15  love3    7178 non-null   int64  \n",
      " 16  esteem1  7178 non-null   int64  \n",
      " 17  sact     7178 non-null   int64  \n",
      " 18  love2    7178 non-null   int64  \n",
      " 19  love1    7178 non-null   int64  \n",
      " 20  ms1      7178 non-null   int64  \n",
      " 21  ms2      7178 non-null   int64  \n",
      " 22  ms3      7178 non-null   int64  \n",
      " 23  scoll1   7178 non-null   int64  \n",
      " 24  scoll2   7178 non-null   int64  \n",
      " 25  scoll3   7178 non-null   int64  \n",
      " 26  scoll4   7178 non-null   int64  \n",
      " 27  icoll1   7178 non-null   int64  \n",
      " 28  icoll2   7178 non-null   int64  \n",
      " 29  icoll3   7178 non-null   int64  \n",
      " 30  icoll4   7178 non-null   int64  \n",
      "dtypes: float64(2), int64(27), object(2)\n",
      "memory usage: 1.7+ MB\n"
     ]
    }
   ],
   "source": [
    "df.info()"
   ]
  },
  {
   "cell_type": "code",
   "execution_count": 13,
   "id": "566ca474",
   "metadata": {},
   "outputs": [
    {
     "data": {
      "text/html": [
       "<div>\n",
       "<style scoped>\n",
       "    .dataframe tbody tr th:only-of-type {\n",
       "        vertical-align: middle;\n",
       "    }\n",
       "\n",
       "    .dataframe tbody tr th {\n",
       "        vertical-align: top;\n",
       "    }\n",
       "\n",
       "    .dataframe thead th {\n",
       "        text-align: right;\n",
       "    }\n",
       "</style>\n",
       "<table border=\"1\" class=\"dataframe\">\n",
       "  <thead>\n",
       "    <tr style=\"text-align: right;\">\n",
       "      <th></th>\n",
       "      <th>gender</th>\n",
       "      <th>age</th>\n",
       "      <th>yr_mrr</th>\n",
       "      <th>chd</th>\n",
       "      <th>chda</th>\n",
       "      <th>edu</th>\n",
       "      <th>physio</th>\n",
       "      <th>rel</th>\n",
       "      <th>safety</th>\n",
       "      <th>love4</th>\n",
       "      <th>happy</th>\n",
       "      <th>esteem2</th>\n",
       "      <th>love5</th>\n",
       "      <th>love3</th>\n",
       "      <th>esteem1</th>\n",
       "      <th>sact</th>\n",
       "      <th>love2</th>\n",
       "      <th>love1</th>\n",
       "      <th>ms1</th>\n",
       "      <th>ms2</th>\n",
       "      <th>ms3</th>\n",
       "      <th>scoll1</th>\n",
       "      <th>scoll2</th>\n",
       "      <th>scoll3</th>\n",
       "      <th>scoll4</th>\n",
       "      <th>icoll1</th>\n",
       "      <th>icoll2</th>\n",
       "      <th>icoll3</th>\n",
       "      <th>icoll4</th>\n",
       "    </tr>\n",
       "  </thead>\n",
       "  <tbody>\n",
       "    <tr>\n",
       "      <th>count</th>\n",
       "      <td>7178.000000</td>\n",
       "      <td>7178.000000</td>\n",
       "      <td>7178.000000</td>\n",
       "      <td>7178.000000</td>\n",
       "      <td>7178.000000</td>\n",
       "      <td>7178.000000</td>\n",
       "      <td>7178.000000</td>\n",
       "      <td>7178.000000</td>\n",
       "      <td>7178.000000</td>\n",
       "      <td>7178.000000</td>\n",
       "      <td>7178.000000</td>\n",
       "      <td>7178.000000</td>\n",
       "      <td>7178.000000</td>\n",
       "      <td>7178.000000</td>\n",
       "      <td>7178.000000</td>\n",
       "      <td>7178.000000</td>\n",
       "      <td>7178.000000</td>\n",
       "      <td>7178.000000</td>\n",
       "      <td>7178.000000</td>\n",
       "      <td>7178.000000</td>\n",
       "      <td>7178.000000</td>\n",
       "      <td>7178.000000</td>\n",
       "      <td>7178.000000</td>\n",
       "      <td>7178.000000</td>\n",
       "      <td>7178.000000</td>\n",
       "      <td>7178.000000</td>\n",
       "      <td>7178.000000</td>\n",
       "      <td>7178.000000</td>\n",
       "      <td>7178.000000</td>\n",
       "    </tr>\n",
       "    <tr>\n",
       "      <th>mean</th>\n",
       "      <td>1.533157</td>\n",
       "      <td>40.665018</td>\n",
       "      <td>14.760102</td>\n",
       "      <td>1.766648</td>\n",
       "      <td>1.466982</td>\n",
       "      <td>4.242965</td>\n",
       "      <td>2.616606</td>\n",
       "      <td>3.962803</td>\n",
       "      <td>3.656729</td>\n",
       "      <td>1.442045</td>\n",
       "      <td>1.583449</td>\n",
       "      <td>1.517275</td>\n",
       "      <td>1.535804</td>\n",
       "      <td>1.516439</td>\n",
       "      <td>1.287406</td>\n",
       "      <td>1.434104</td>\n",
       "      <td>1.930203</td>\n",
       "      <td>1.348426</td>\n",
       "      <td>2.260797</td>\n",
       "      <td>2.227919</td>\n",
       "      <td>2.281833</td>\n",
       "      <td>2.492338</td>\n",
       "      <td>1.986486</td>\n",
       "      <td>3.547088</td>\n",
       "      <td>2.683199</td>\n",
       "      <td>2.192254</td>\n",
       "      <td>1.885483</td>\n",
       "      <td>3.398440</td>\n",
       "      <td>2.989412</td>\n",
       "    </tr>\n",
       "    <tr>\n",
       "      <th>std</th>\n",
       "      <td>0.498934</td>\n",
       "      <td>11.446824</td>\n",
       "      <td>11.587541</td>\n",
       "      <td>1.307748</td>\n",
       "      <td>1.383066</td>\n",
       "      <td>0.949635</td>\n",
       "      <td>0.838241</td>\n",
       "      <td>1.777629</td>\n",
       "      <td>1.951630</td>\n",
       "      <td>0.804958</td>\n",
       "      <td>0.833708</td>\n",
       "      <td>0.797827</td>\n",
       "      <td>0.872481</td>\n",
       "      <td>0.862625</td>\n",
       "      <td>0.608802</td>\n",
       "      <td>0.778824</td>\n",
       "      <td>1.080179</td>\n",
       "      <td>0.792854</td>\n",
       "      <td>1.452407</td>\n",
       "      <td>1.460221</td>\n",
       "      <td>1.494538</td>\n",
       "      <td>1.460362</td>\n",
       "      <td>1.430655</td>\n",
       "      <td>1.819215</td>\n",
       "      <td>1.766169</td>\n",
       "      <td>1.529274</td>\n",
       "      <td>1.470525</td>\n",
       "      <td>1.959335</td>\n",
       "      <td>1.922027</td>\n",
       "    </tr>\n",
       "    <tr>\n",
       "      <th>min</th>\n",
       "      <td>1.000000</td>\n",
       "      <td>17.000000</td>\n",
       "      <td>0.080000</td>\n",
       "      <td>0.000000</td>\n",
       "      <td>0.000000</td>\n",
       "      <td>1.000000</td>\n",
       "      <td>1.000000</td>\n",
       "      <td>1.000000</td>\n",
       "      <td>1.000000</td>\n",
       "      <td>1.000000</td>\n",
       "      <td>1.000000</td>\n",
       "      <td>1.000000</td>\n",
       "      <td>1.000000</td>\n",
       "      <td>1.000000</td>\n",
       "      <td>1.000000</td>\n",
       "      <td>1.000000</td>\n",
       "      <td>1.000000</td>\n",
       "      <td>1.000000</td>\n",
       "      <td>1.000000</td>\n",
       "      <td>1.000000</td>\n",
       "      <td>1.000000</td>\n",
       "      <td>1.000000</td>\n",
       "      <td>1.000000</td>\n",
       "      <td>1.000000</td>\n",
       "      <td>1.000000</td>\n",
       "      <td>1.000000</td>\n",
       "      <td>1.000000</td>\n",
       "      <td>1.000000</td>\n",
       "      <td>1.000000</td>\n",
       "    </tr>\n",
       "    <tr>\n",
       "      <th>25%</th>\n",
       "      <td>1.000000</td>\n",
       "      <td>32.000000</td>\n",
       "      <td>5.000000</td>\n",
       "      <td>1.000000</td>\n",
       "      <td>0.000000</td>\n",
       "      <td>4.000000</td>\n",
       "      <td>2.000000</td>\n",
       "      <td>3.000000</td>\n",
       "      <td>2.000000</td>\n",
       "      <td>1.000000</td>\n",
       "      <td>1.000000</td>\n",
       "      <td>1.000000</td>\n",
       "      <td>1.000000</td>\n",
       "      <td>1.000000</td>\n",
       "      <td>1.000000</td>\n",
       "      <td>1.000000</td>\n",
       "      <td>1.000000</td>\n",
       "      <td>1.000000</td>\n",
       "      <td>1.000000</td>\n",
       "      <td>1.000000</td>\n",
       "      <td>1.000000</td>\n",
       "      <td>1.000000</td>\n",
       "      <td>1.000000</td>\n",
       "      <td>2.000000</td>\n",
       "      <td>1.000000</td>\n",
       "      <td>1.000000</td>\n",
       "      <td>1.000000</td>\n",
       "      <td>2.000000</td>\n",
       "      <td>1.000000</td>\n",
       "    </tr>\n",
       "    <tr>\n",
       "      <th>50%</th>\n",
       "      <td>2.000000</td>\n",
       "      <td>39.000000</td>\n",
       "      <td>12.000000</td>\n",
       "      <td>2.000000</td>\n",
       "      <td>1.000000</td>\n",
       "      <td>5.000000</td>\n",
       "      <td>3.000000</td>\n",
       "      <td>4.000000</td>\n",
       "      <td>3.000000</td>\n",
       "      <td>1.000000</td>\n",
       "      <td>1.000000</td>\n",
       "      <td>1.000000</td>\n",
       "      <td>1.000000</td>\n",
       "      <td>1.000000</td>\n",
       "      <td>1.000000</td>\n",
       "      <td>1.000000</td>\n",
       "      <td>2.000000</td>\n",
       "      <td>1.000000</td>\n",
       "      <td>2.000000</td>\n",
       "      <td>2.000000</td>\n",
       "      <td>2.000000</td>\n",
       "      <td>2.000000</td>\n",
       "      <td>1.000000</td>\n",
       "      <td>3.000000</td>\n",
       "      <td>2.000000</td>\n",
       "      <td>2.000000</td>\n",
       "      <td>1.000000</td>\n",
       "      <td>3.000000</td>\n",
       "      <td>2.000000</td>\n",
       "    </tr>\n",
       "    <tr>\n",
       "      <th>75%</th>\n",
       "      <td>2.000000</td>\n",
       "      <td>49.000000</td>\n",
       "      <td>23.000000</td>\n",
       "      <td>2.000000</td>\n",
       "      <td>2.000000</td>\n",
       "      <td>5.000000</td>\n",
       "      <td>3.000000</td>\n",
       "      <td>5.000000</td>\n",
       "      <td>5.000000</td>\n",
       "      <td>2.000000</td>\n",
       "      <td>2.000000</td>\n",
       "      <td>2.000000</td>\n",
       "      <td>2.000000</td>\n",
       "      <td>2.000000</td>\n",
       "      <td>1.000000</td>\n",
       "      <td>2.000000</td>\n",
       "      <td>2.000000</td>\n",
       "      <td>1.000000</td>\n",
       "      <td>3.000000</td>\n",
       "      <td>3.000000</td>\n",
       "      <td>3.000000</td>\n",
       "      <td>3.000000</td>\n",
       "      <td>2.000000</td>\n",
       "      <td>5.000000</td>\n",
       "      <td>3.000000</td>\n",
       "      <td>3.000000</td>\n",
       "      <td>2.000000</td>\n",
       "      <td>5.000000</td>\n",
       "      <td>4.000000</td>\n",
       "    </tr>\n",
       "    <tr>\n",
       "      <th>max</th>\n",
       "      <td>2.000000</td>\n",
       "      <td>88.000000</td>\n",
       "      <td>70.000000</td>\n",
       "      <td>12.000000</td>\n",
       "      <td>13.000000</td>\n",
       "      <td>5.000000</td>\n",
       "      <td>6.000000</td>\n",
       "      <td>7.000000</td>\n",
       "      <td>7.000000</td>\n",
       "      <td>6.000000</td>\n",
       "      <td>5.000000</td>\n",
       "      <td>5.000000</td>\n",
       "      <td>5.000000</td>\n",
       "      <td>5.000000</td>\n",
       "      <td>5.000000</td>\n",
       "      <td>7.000000</td>\n",
       "      <td>7.000000</td>\n",
       "      <td>7.000000</td>\n",
       "      <td>7.000000</td>\n",
       "      <td>7.000000</td>\n",
       "      <td>7.000000</td>\n",
       "      <td>7.000000</td>\n",
       "      <td>7.000000</td>\n",
       "      <td>7.000000</td>\n",
       "      <td>7.000000</td>\n",
       "      <td>7.000000</td>\n",
       "      <td>7.000000</td>\n",
       "      <td>7.000000</td>\n",
       "      <td>7.000000</td>\n",
       "    </tr>\n",
       "  </tbody>\n",
       "</table>\n",
       "</div>"
      ],
      "text/plain": [
       "            gender          age       yr_mrr          chd         chda  \\\n",
       "count  7178.000000  7178.000000  7178.000000  7178.000000  7178.000000   \n",
       "mean      1.533157    40.665018    14.760102     1.766648     1.466982   \n",
       "std       0.498934    11.446824    11.587541     1.307748     1.383066   \n",
       "min       1.000000    17.000000     0.080000     0.000000     0.000000   \n",
       "25%       1.000000    32.000000     5.000000     1.000000     0.000000   \n",
       "50%       2.000000    39.000000    12.000000     2.000000     1.000000   \n",
       "75%       2.000000    49.000000    23.000000     2.000000     2.000000   \n",
       "max       2.000000    88.000000    70.000000    12.000000    13.000000   \n",
       "\n",
       "               edu       physio          rel       safety        love4  \\\n",
       "count  7178.000000  7178.000000  7178.000000  7178.000000  7178.000000   \n",
       "mean      4.242965     2.616606     3.962803     3.656729     1.442045   \n",
       "std       0.949635     0.838241     1.777629     1.951630     0.804958   \n",
       "min       1.000000     1.000000     1.000000     1.000000     1.000000   \n",
       "25%       4.000000     2.000000     3.000000     2.000000     1.000000   \n",
       "50%       5.000000     3.000000     4.000000     3.000000     1.000000   \n",
       "75%       5.000000     3.000000     5.000000     5.000000     2.000000   \n",
       "max       5.000000     6.000000     7.000000     7.000000     6.000000   \n",
       "\n",
       "             happy      esteem2        love5        love3      esteem1  \\\n",
       "count  7178.000000  7178.000000  7178.000000  7178.000000  7178.000000   \n",
       "mean      1.583449     1.517275     1.535804     1.516439     1.287406   \n",
       "std       0.833708     0.797827     0.872481     0.862625     0.608802   \n",
       "min       1.000000     1.000000     1.000000     1.000000     1.000000   \n",
       "25%       1.000000     1.000000     1.000000     1.000000     1.000000   \n",
       "50%       1.000000     1.000000     1.000000     1.000000     1.000000   \n",
       "75%       2.000000     2.000000     2.000000     2.000000     1.000000   \n",
       "max       5.000000     5.000000     5.000000     5.000000     5.000000   \n",
       "\n",
       "              sact        love2        love1          ms1          ms2  \\\n",
       "count  7178.000000  7178.000000  7178.000000  7178.000000  7178.000000   \n",
       "mean      1.434104     1.930203     1.348426     2.260797     2.227919   \n",
       "std       0.778824     1.080179     0.792854     1.452407     1.460221   \n",
       "min       1.000000     1.000000     1.000000     1.000000     1.000000   \n",
       "25%       1.000000     1.000000     1.000000     1.000000     1.000000   \n",
       "50%       1.000000     2.000000     1.000000     2.000000     2.000000   \n",
       "75%       2.000000     2.000000     1.000000     3.000000     3.000000   \n",
       "max       7.000000     7.000000     7.000000     7.000000     7.000000   \n",
       "\n",
       "               ms3       scoll1       scoll2       scoll3       scoll4  \\\n",
       "count  7178.000000  7178.000000  7178.000000  7178.000000  7178.000000   \n",
       "mean      2.281833     2.492338     1.986486     3.547088     2.683199   \n",
       "std       1.494538     1.460362     1.430655     1.819215     1.766169   \n",
       "min       1.000000     1.000000     1.000000     1.000000     1.000000   \n",
       "25%       1.000000     1.000000     1.000000     2.000000     1.000000   \n",
       "50%       2.000000     2.000000     1.000000     3.000000     2.000000   \n",
       "75%       3.000000     3.000000     2.000000     5.000000     3.000000   \n",
       "max       7.000000     7.000000     7.000000     7.000000     7.000000   \n",
       "\n",
       "            icoll1       icoll2       icoll3       icoll4  \n",
       "count  7178.000000  7178.000000  7178.000000  7178.000000  \n",
       "mean      2.192254     1.885483     3.398440     2.989412  \n",
       "std       1.529274     1.470525     1.959335     1.922027  \n",
       "min       1.000000     1.000000     1.000000     1.000000  \n",
       "25%       1.000000     1.000000     2.000000     1.000000  \n",
       "50%       2.000000     1.000000     3.000000     2.000000  \n",
       "75%       3.000000     2.000000     5.000000     4.000000  \n",
       "max       7.000000     7.000000     7.000000     7.000000  "
      ]
     },
     "execution_count": 13,
     "metadata": {},
     "output_type": "execute_result"
    }
   ],
   "source": [
    "# to display all columns in the dataset we can use display.max_columns\n",
    "pd.set_option('display.max_columns', None)\n",
    "\n",
    "\n",
    "#describing the dataset \n",
    "df.describe()"
   ]
  },
  {
   "cell_type": "markdown",
   "id": "55605bcd",
   "metadata": {},
   "source": [
    "> The data appears to be consistent, complete, and does not have any missing values."
   ]
  },
  {
   "cell_type": "markdown",
   "id": "c5dabeda",
   "metadata": {},
   "source": [
    "## Checking for duplicates"
   ]
  },
  {
   "cell_type": "code",
   "execution_count": 14,
   "id": "52b7fa82",
   "metadata": {},
   "outputs": [
    {
     "data": {
      "text/plain": [
       "56"
      ]
     },
     "execution_count": 14,
     "metadata": {},
     "output_type": "execute_result"
    }
   ],
   "source": [
    "sum(df.duplicated())"
   ]
  },
  {
   "cell_type": "markdown",
   "id": "7d10a898",
   "metadata": {},
   "source": [
    " > The data was collected from a survey. Each row represents an individual state, even if it is repeated or duplicated. Therefore, dropping the duplicated rows is not required."
   ]
  },
  {
   "cell_type": "markdown",
   "id": "953b546e",
   "metadata": {},
   "source": [
    "## Checking for missing values"
   ]
  },
  {
   "cell_type": "code",
   "execution_count": 15,
   "id": "add46ed1",
   "metadata": {},
   "outputs": [],
   "source": [
    "df=df.replace(' ' , np.nan)"
   ]
  },
  {
   "cell_type": "code",
   "execution_count": 16,
   "id": "01c2e706",
   "metadata": {},
   "outputs": [
    {
     "data": {
      "text/plain": [
       "country     0\n",
       "gender      0\n",
       "age         0\n",
       "yr_mrr      0\n",
       "chd         0\n",
       "chda        0\n",
       "edu         0\n",
       "physio      0\n",
       "raf        86\n",
       "rel         0\n",
       "safety      0\n",
       "love4       0\n",
       "happy       0\n",
       "esteem2     0\n",
       "love5       0\n",
       "love3       0\n",
       "esteem1     0\n",
       "sact        0\n",
       "love2       0\n",
       "love1       0\n",
       "ms1         0\n",
       "ms2         0\n",
       "ms3         0\n",
       "scoll1      0\n",
       "scoll2      0\n",
       "scoll3      0\n",
       "scoll4      0\n",
       "icoll1      0\n",
       "icoll2      0\n",
       "icoll3      0\n",
       "icoll4      0\n",
       "dtype: int64"
      ]
     },
     "execution_count": 16,
     "metadata": {},
     "output_type": "execute_result"
    }
   ],
   "source": [
    "df.isna().sum()"
   ]
  },
  {
   "cell_type": "code",
   "execution_count": 17,
   "id": "ab3a8d70",
   "metadata": {},
   "outputs": [
    {
     "name": "stdout",
     "output_type": "stream",
     "text": [
      "number of missing value is: 86\n"
     ]
    }
   ],
   "source": [
    "print(f'number of missing value is: {df.raf.isna().sum()}')"
   ]
  },
  {
   "cell_type": "markdown",
   "id": "979d4aba",
   "metadata": {},
   "source": [
    ">  We can see that there are 86 missing values in the **raf** column, which represents the **current religious affiliation.** Since the numbers in the column represent different religions, we can assume that the empty values do not represent any religion. As a solution, we can fill these missing values with the number 6, which corresponds to **None** in the original survey. "
   ]
  },
  {
   "cell_type": "code",
   "execution_count": 18,
   "id": "d971a835",
   "metadata": {},
   "outputs": [],
   "source": [
    "df['raf'] = df['raf'].fillna(6)"
   ]
  },
  {
   "cell_type": "markdown",
   "id": "04ccb74f",
   "metadata": {},
   "source": [
    "cheking the number of the missing value after modification"
   ]
  },
  {
   "cell_type": "code",
   "execution_count": 19,
   "id": "9b2efbff",
   "metadata": {
    "scrolled": true
   },
   "outputs": [
    {
     "data": {
      "text/plain": [
       "0"
      ]
     },
     "execution_count": 19,
     "metadata": {},
     "output_type": "execute_result"
    }
   ],
   "source": [
    "df['raf'].isna().sum()"
   ]
  },
  {
   "cell_type": "markdown",
   "id": "f44484b3",
   "metadata": {},
   "source": [
    "##### Initial setting to visualize the data"
   ]
  },
  {
   "cell_type": "code",
   "execution_count": 20,
   "id": "a3234322",
   "metadata": {},
   "outputs": [],
   "source": [
    "color = 'teal'\n",
    "fontsize = 12\n",
    "sns.set_style('whitegrid')\n",
    "linestyle = '--'\n",
    "palette = sns.color_palette(f\"light:{color}\", n_colors=5)\n",
    "cmap = sns.color_palette(f\"light:{color}\", as_cmap=True)"
   ]
  },
  {
   "cell_type": "markdown",
   "id": "621af790",
   "metadata": {},
   "source": [
    "## skewness analysis"
   ]
  },
  {
   "cell_type": "markdown",
   "id": "126ed6b4",
   "metadata": {},
   "source": [
    " Calculate skewness"
   ]
  },
  {
   "cell_type": "code",
   "execution_count": 21,
   "id": "bc7c256b",
   "metadata": {},
   "outputs": [],
   "source": [
    "numeric_columns = df.select_dtypes(include=np.number).columns\n",
    "skewness_results = {}\n",
    "\n",
    "for column in numeric_columns:\n",
    "    skewness_results[column] = skew(df[column])\n",
    "\n",
    "df_skewness = pd.DataFrame.from_dict(skewness_results, orient='index', columns=['Skewness'])"
   ]
  },
  {
   "cell_type": "markdown",
   "id": "0ac2962e",
   "metadata": {},
   "source": [
    "Plot skewness values with custom color"
   ]
  },
  {
   "cell_type": "code",
   "execution_count": 22,
   "id": "a82c198f",
   "metadata": {},
   "outputs": [
    {
     "data": {
      "image/png": "[encoded data removed]",
      "text/plain": [
       "<Figure size 1200x600 with 1 Axes>"
      ]
     },
     "metadata": {},
     "output_type": "display_data"
    }
   ],
   "source": [
    "plt.figure(figsize=(12, 6))\n",
    "plt.bar(df_skewness.index, df_skewness['Skewness'], color=color)  \n",
    "plt.xlabel('Columns')\n",
    "plt.ylabel('Skewness')\n",
    "plt.title('Skewness of Columns')\n",
    "plt.xticks(rotation=90)\n",
    "plt.grid(color='lightgray', linestyle=linestyle)\n",
    "plt.xticks(fontsize=fontsize)\n",
    "plt.yticks(fontsize=fontsize)\n",
    "plt.tight_layout()\n",
    "\n",
    "plt.show()"
   ]
  },
  {
   "cell_type": "markdown",
   "id": "6641b0f2",
   "metadata": {},
   "source": [
    " Separate right-skewed and left-skewed columns"
   ]
  },
  {
   "cell_type": "code",
   "execution_count": 23,
   "id": "79da4bfb",
   "metadata": {},
   "outputs": [],
   "source": [
    "right_skewed = df_skewness[df_skewness['Skewness'] > 0.5]\n",
    "left_skewed = df_skewness[df_skewness['Skewness'] < -0.5]"
   ]
  },
  {
   "cell_type": "markdown",
   "id": "a41a4afc",
   "metadata": {},
   "source": [
    ">  Skewness values close to 0 (between -0.5 and 0.5) indicate that the distribution is approximately symmetric"
   ]
  },
  {
   "cell_type": "markdown",
   "id": "f003bce8",
   "metadata": {},
   "source": [
    "Plot right-skewed columns"
   ]
  },
  {
   "cell_type": "code",
   "execution_count": 24,
   "id": "374efbaf",
   "metadata": {},
   "outputs": [
    {
     "data": {
      "image/png": "[encoded data removed]",
      "text/plain": [
       "<Figure size 1200x600 with 1 Axes>"
      ]
     },
     "metadata": {},
     "output_type": "display_data"
    }
   ],
   "source": [
    "plt.figure(figsize=(12, 6))\n",
    "plt.bar(right_skewed.index, right_skewed['Skewness'], color=color)\n",
    "plt.xlabel('Columns')\n",
    "plt.ylabel('Skewness')\n",
    "plt.title('Right-Skewed Columns')\n",
    "plt.xticks(rotation=90)\n",
    "plt.grid(color='lightgray', linestyle='--')\n",
    "plt.xticks(fontsize=fontsize)\n",
    "plt.yticks(fontsize=fontsize)\n",
    "plt.tight_layout()\n",
    "\n",
    "plt.show()"
   ]
  },
  {
   "cell_type": "markdown",
   "id": "23455be3",
   "metadata": {},
   "source": [
    "Plot left-skewed columns"
   ]
  },
  {
   "cell_type": "code",
   "execution_count": 25,
   "id": "92de4271",
   "metadata": {},
   "outputs": [
    {
     "data": {
      "image/png": "[encoded data removed]",
      "text/plain": [
       "<Figure size 300x400 with 1 Axes>"
      ]
     },
     "metadata": {},
     "output_type": "display_data"
    }
   ],
   "source": [
    "plt.figure(figsize=(3, 4))\n",
    "plt.bar(left_skewed.index, left_skewed['Skewness']*-1, color=color)\n",
    "plt.xlabel('Columns')\n",
    "plt.ylabel('Skewness')\n",
    "plt.title('Left-Skewed Columns')\n",
    "plt.xticks(rotation=90)\n",
    "plt.grid(color='lightgray', linestyle=linestyle)\n",
    "plt.xticks(fontsize=fontsize)\n",
    "plt.yticks(fontsize=fontsize)\n",
    "plt.tight_layout()\n",
    "\n",
    "plt.show()"
   ]
  },
  {
   "cell_type": "markdown",
   "id": "bc3181cb",
   "metadata": {},
   "source": [
    "> **Note:** While skewed data can still provide valuable insights and meaningful interpretations, it is important to consider the implications of skewness in the marriage survey data. The skewed distribution of responses may reflect the diverse range of experiences and attitudes towards marriage.\n",
    "\n",
    "Given the skewness in the data, using non-linear models would be a wise choice since linear models rely on the assumption of normally distributed data."
   ]
  },
  {
   "cell_type": "markdown",
   "id": "adf54ed0",
   "metadata": {},
   "source": [
    "## Feature Scaling"
   ]
  },
  {
   "cell_type": "markdown",
   "id": "d9c3eca8",
   "metadata": {},
   "source": [
    "The majority of features in the data fall within the range of 1 and 7, excluding personal information such as age, gender, number of children, etc. It is observed that the range of 1 to 7 is relatively close, indicating that scaling or generalization may not be necessary. \n"
   ]
  },
  {
   "cell_type": "markdown",
   "id": "7e4d71af",
   "metadata": {},
   "source": [
    "---\n",
    "# Exploratory Data Analysis"
   ]
  },
  {
   "cell_type": "markdown",
   "id": "db126ea0",
   "metadata": {},
   "source": [
    "### General Ploting"
   ]
  },
  {
   "cell_type": "markdown",
   "id": "a5aaec7e",
   "metadata": {},
   "source": [
    "#### Gender comparison"
   ]
  },
  {
   "cell_type": "code",
   "execution_count": null,
   "id": "061c5ea7",
   "metadata": {},
   "outputs": [],
   "source": [
    "gender_counts = df['gender'].value_counts()\n",
    "plt.pie(gender_counts.values, labels=[\"Female\", \"Male\"],\n",
    "        autopct='%1.1f%%', colors=['lightpink', 'lightblue'], explode=(0.05, 0.05))\n",
    "plt.title('Gender Percentage')\n",
    "plt.tight_layout()\n",
    "\n",
    "plt.show()"
   ]
  },
  {
   "cell_type": "markdown",
   "id": "fc4909d4",
   "metadata": {},
   "source": [
    "#### Age distribution "
   ]
  },
  {
   "cell_type": "code",
   "execution_count": null,
   "id": "fddb761c",
   "metadata": {},
   "outputs": [],
   "source": [
    "age_counts = df['age'].value_counts()\n",
    "plt.figure(figsize=(8, 6))\n",
    "plt.bar(age_counts.index, age_counts.values, color = color)\n",
    "plt.xlabel('Age')\n",
    "plt.ylabel('Count')\n",
    "plt.title('Age Distribution')\n",
    "plt.grid(color='lightgray', linestyle=linestyle)\n",
    "plt.xticks(fontsize=fontsize)\n",
    "plt.yticks(fontsize=fontsize)\n",
    "plt.tight_layout()\n",
    "\n",
    "plt.show()"
   ]
  },
  {
   "cell_type": "markdown",
   "id": "9767cbf4",
   "metadata": {},
   "source": [
    "#### Age compered to Years of marrige"
   ]
  },
  {
   "cell_type": "code",
   "execution_count": null,
   "id": "f1d3f1b5",
   "metadata": {},
   "outputs": [],
   "source": [
    "plt.figure(figsize=(9,7))\n",
    "plt.scatter(df['age'], df['yr_mrr'], color=color, alpha=0.7)\n",
    "\n",
    "plt.xlabel('Age')\n",
    "plt.ylabel('Year of Marriage')\n",
    "plt.title(' Age vs. Year of Marriage')\n",
    "\n",
    "plt.grid(color='lightgray', linestyle=linestyle)\n",
    "plt.xticks(fontsize=fontsize)\n",
    "plt.yticks(fontsize=fontsize)\n",
    "plt.tight_layout()\n",
    "\n",
    "plt.show()"
   ]
  },
  {
   "cell_type": "markdown",
   "id": "83e00849",
   "metadata": {},
   "source": [
    "#### Count Number of samples in each country"
   ]
  },
  {
   "cell_type": "code",
   "execution_count": null,
   "id": "169d07d8",
   "metadata": {},
   "outputs": [],
   "source": [
    "country_counts = df['country'].value_counts()\n",
    "\n",
    "plt.figure(figsize = (10,5))\n",
    "plt.bar(country_counts.index, country_counts.values, color = color)\n",
    "\n",
    "plt.xlabel('Country')\n",
    "plt.ylabel('Count')\n",
    "plt.title('Number of samples in each country')\n",
    "plt.xticks(rotation=90)\n",
    "plt.grid(color='lightgray', linestyle=linestyle)\n",
    "plt.xticks(fontsize=fontsize)\n",
    "plt.yticks(fontsize=fontsize)\n",
    "plt.tight_layout()\n",
    "\n",
    "plt.show()"
   ]
  },
  {
   "cell_type": "markdown",
   "id": "33281014",
   "metadata": {},
   "source": [
    "### Ploting the countries on the Map"
   ]
  },
  {
   "cell_type": "markdown",
   "id": "9013ba5d",
   "metadata": {},
   "source": [
    "Initialize map objects"
   ]
  },
  {
   "cell_type": "code",
   "execution_count": null,
   "id": "a650829f",
   "metadata": {},
   "outputs": [],
   "source": [
    "country_counts = df['country'].value_counts()\n",
    "map = folium.Map()\n",
    "geolocator = Nominatim(user_agent=\"my_map\")\n",
    "marker_cluster = MarkerCluster().add_to(map)"
   ]
  },
  {
   "cell_type": "markdown",
   "id": "f1ef396b",
   "metadata": {},
   "source": [
    " Iterate through each country and count number of rows then set its location in the map "
   ]
  },
  {
   "cell_type": "code",
   "execution_count": null,
   "id": "ffd2bafb",
   "metadata": {},
   "outputs": [],
   "source": [
    "for country in df['country'].unique():\n",
    "    country_data = df[df['country'] == country]\n",
    "    country_count = country_counts[country]\n",
    "    \n",
    "    try:\n",
    "        location = geolocator.geocode(country)\n",
    "        latitude = location.latitude\n",
    "        longitude = location.longitude\n",
    "        \n",
    "        folium.Marker(location=[latitude, longitude], popup=f'{country}: {country_count}').add_to(marker_cluster)\n",
    "    except:\n",
    "        continue"
   ]
  },
  {
   "cell_type": "markdown",
   "id": "e09b0fe9",
   "metadata": {},
   "source": [
    "#### Display the map"
   ]
  },
  {
   "cell_type": "code",
   "execution_count": null,
   "id": "b9fa88d3",
   "metadata": {},
   "outputs": [],
   "source": [
    "map"
   ]
  },
  {
   "cell_type": "markdown",
   "id": "6a80d236",
   "metadata": {},
   "source": [
    "### correlation matrix"
   ]
  },
  {
   "cell_type": "markdown",
   "id": "90db3d32",
   "metadata": {},
   "source": [
    "calculating the correlation matrix "
   ]
  },
  {
   "cell_type": "code",
   "execution_count": null,
   "id": "73fbb7c6",
   "metadata": {},
   "outputs": [],
   "source": [
    "numeric_columns = df.select_dtypes(include='number')\n",
    "correlation_matrix = numeric_columns.corr()"
   ]
  },
  {
   "cell_type": "markdown",
   "id": "9abdfa53",
   "metadata": {},
   "source": [
    " Display top 5 related features"
   ]
  },
  {
   "cell_type": "code",
   "execution_count": null,
   "id": "607c7eb8",
   "metadata": {
    "scrolled": true
   },
   "outputs": [],
   "source": [
    "top_corr = correlation_matrix.unstack().sort_values(ascending=False)\n",
    "top_corr = top_corr[top_corr != 1][::2][:5]\n",
    "print(top_corr)"
   ]
  },
  {
   "cell_type": "markdown",
   "id": "57d43129",
   "metadata": {},
   "source": [
    "### Heat map"
   ]
  },
  {
   "cell_type": "code",
   "execution_count": null,
   "id": "37fbe3d3",
   "metadata": {},
   "outputs": [],
   "source": [
    "sns.set_style('white')\n",
    "\n",
    "plt.figure(figsize=(15, 10))\n",
    "sns.heatmap(correlation_matrix, annot=True, annot_kws={'fontsize': 8}, cmap=cmap, linewidths=0.5)\n",
    "\n",
    "plt.title('Correlation Matrix', fontsize=20)\n",
    "plt.tight_layout()\n",
    "\n",
    "plt.show()"
   ]
  },
  {
   "cell_type": "markdown",
   "id": "164a1bad",
   "metadata": {},
   "source": [
    "--- \n",
    "# Feature Selection "
   ]
  },
  {
   "cell_type": "markdown",
   "id": "e1823927",
   "metadata": {},
   "source": [
    "### Selecting the taget "
   ]
  },
  {
   "cell_type": "markdown",
   "id": "4d5a0d90",
   "metadata": {},
   "source": [
    "Setting the overall marriage satisfaction, represented by the **ms1** column, as the target for the study."
   ]
  },
  {
   "cell_type": "markdown",
   "id": "a8d97fc5",
   "metadata": {},
   "source": [
    "### choosing Feature Selection Method"
   ]
  },
  {
   "cell_type": "markdown",
   "id": "64b12e1f",
   "metadata": {},
   "source": [
    "The chosen feature selection method should meet the following conditions:\n",
    "\n",
    "- The dataset has 30 features, so eliminating low correlated features is necessary to reduce computational expenses during training.\n",
    "- Flexibility is important, allowing the method to be applied with different machine learning algorithms.\n",
    "- An automated searching process without manual feature engineering is desired.\n",
    "- The method should enhance interpretability by reducing the dataset's dimensionality.\n",
    "\n",
    "> **Recursive Feature Elimination (RFE)** satisfies these conditions. It eliminates low correlated features, works with various algorithms, offers an automated feature selection process, and improves interpretability by reducing dimensionality. Therefore, RFE is the suitable choice for feature selection in this project."
   ]
  },
  {
   "cell_type": "markdown",
   "id": "cde7d5a9",
   "metadata": {},
   "source": [
    "## implementing Recursive Feature Elimination (RFE)"
   ]
  },
  {
   "cell_type": "markdown",
   "id": "a2de380f",
   "metadata": {},
   "source": [
    " setting features and target"
   ]
  },
  {
   "cell_type": "code",
   "execution_count": null,
   "id": "fbda55fd",
   "metadata": {},
   "outputs": [],
   "source": [
    "y = df['ms1'] \n",
    "X = df.drop(['ms1', 'country'], axis=1)"
   ]
  },
  {
   "cell_type": "markdown",
   "id": "2d1bd0f8",
   "metadata": {},
   "source": [
    " Split the data into training and testing sets"
   ]
  },
  {
   "cell_type": "code",
   "execution_count": null,
   "id": "13f49473",
   "metadata": {},
   "outputs": [],
   "source": [
    "X_train, X_test, y_train, y_test = train_test_split(X, y, test_size=0.2, random_state=42)"
   ]
  },
  {
   "cell_type": "markdown",
   "id": "44be937a",
   "metadata": {},
   "source": [
    "### caculating the best number of feature"
   ]
  },
  {
   "cell_type": "markdown",
   "id": "9b1617d1",
   "metadata": {},
   "source": [
    "Define the range of potential numbers of features"
   ]
  },
  {
   "cell_type": "code",
   "execution_count": null,
   "id": "95210988",
   "metadata": {},
   "outputs": [],
   "source": [
    "feature_range = range(1,30)"
   ]
  },
  {
   "cell_type": "markdown",
   "id": "c9450e78",
   "metadata": {},
   "source": [
    " Initialize estimator and dictionary to store the performanc"
   ]
  },
  {
   "cell_type": "code",
   "execution_count": null,
   "id": "71c8f400",
   "metadata": {},
   "outputs": [],
   "source": [
    "estimator = LinearRegression()\n",
    "metric_scores = {}"
   ]
  },
  {
   "cell_type": "markdown",
   "id": "55a92e87",
   "metadata": {},
   "source": [
    "#### Perform cross-validation for each number of features"
   ]
  },
  {
   "cell_type": "code",
   "execution_count": null,
   "id": "40fcca2a",
   "metadata": {},
   "outputs": [],
   "source": [
    "for num_features in feature_range:\n",
    "    rfe = RFE(estimator, n_features_to_select=num_features)\n",
    "    rfe.fit(X_train, y_train)\n",
    "    \n",
    "    X_train_selected = rfe.transform(X_train)\n",
    "    X_test_selected = rfe.transform(X_test)\n",
    "    \n",
    "    estimator.fit(X_train_selected, y_train)\n",
    "    \n",
    "    scores = cross_val_score(estimator, X_test_selected, y_test, cv=5, scoring='r2')\n",
    "    metric_scores[num_features] = scores.mean()"
   ]
  },
  {
   "cell_type": "markdown",
   "id": "7f636592",
   "metadata": {},
   "source": [
    "Find the number of features with the highest performance metric score"
   ]
  },
  {
   "cell_type": "code",
   "execution_count": null,
   "id": "13c62819",
   "metadata": {},
   "outputs": [],
   "source": [
    "best_num_features = max(metric_scores, key=metric_scores.get)\n",
    "best_score = metric_scores[best_num_features]"
   ]
  },
  {
   "cell_type": "markdown",
   "id": "f09c10ec",
   "metadata": {},
   "source": [
    "#### Print the result"
   ]
  },
  {
   "cell_type": "code",
   "execution_count": null,
   "id": "f19f7871",
   "metadata": {},
   "outputs": [],
   "source": [
    "print(\"Best Number of Features:\", best_num_features)\n",
    "print(\"Best Performance Score:\", best_score)"
   ]
  },
  {
   "cell_type": "markdown",
   "id": "a6792002",
   "metadata": {},
   "source": [
    "\n",
    "> **Note:** The results indicate that the best performance is achieved when using **10** features. Therefore, we will select these 10 features for the final selection and proceed with the modeling phase."
   ]
  },
  {
   "cell_type": "markdown",
   "id": "88d49b49",
   "metadata": {},
   "source": [
    "#### implementing feature selection by using all the data"
   ]
  },
  {
   "cell_type": "code",
   "execution_count": null,
   "id": "61e6f88b",
   "metadata": {},
   "outputs": [],
   "source": [
    "rfe = RFE(estimator, n_features_to_select=10)\n",
    "rfe.fit(X, y)\n",
    "selected_features = X.columns[rfe.support_]"
   ]
  },
  {
   "cell_type": "markdown",
   "id": "82425f93",
   "metadata": {},
   "source": [
    "#### finalize the target and selected features"
   ]
  },
  {
   "cell_type": "code",
   "execution_count": null,
   "id": "3f4bff1c",
   "metadata": {},
   "outputs": [],
   "source": [
    "df_features = df[selected_features]\n",
    "df_target = df['ms1'] "
   ]
  },
  {
   "cell_type": "markdown",
   "id": "fb1e6961",
   "metadata": {},
   "source": [
    "---\n",
    "# Model Selection"
   ]
  },
  {
   "cell_type": "markdown",
   "id": "8c9b4275",
   "metadata": {},
   "source": [
    "## Classification \n",
    "The selection of these three methods, namely Decision Trees, Naive Bayes, and Support Vector Machines (SVM), is based on their versatility, popularity, and effectiveness in various data mining tasks. Here are the reasons for selecting these methods:\n",
    "### 1. Decision Trees:\n",
    "\n",
    "- **Interpretability:** Decision trees provide clear and interpretable rules for decision-making. The generated tree structure can be easily understood and visualized, making it useful for explaining patterns and insights to stakeholders.\n",
    "\n",
    "\n",
    "- **Non-parametric nature:** Decision trees do not require strong assumptions about the underlying data distribution, making them suitable for different types of data.\n",
    "\n",
    "\n",
    "### 2. Naive Bayes:\n",
    "\n",
    "- **Simplicity and efficiency:** Naive Bayes is computationally efficient and simple to implement. It performs well even with limited training data, making it suitable for large datasets. \n",
    "\n",
    "\n",
    "- **Probabilistic framework:** Naive Bayes leverages probability theory to calculate the likelihood of an instance belonging to a certain class. It can handle missing values even though there none in our data and works well with high-dimensional data.\n",
    "\n",
    "\n",
    "- **Independence assumption:** Although the assumption of independence between features is often violated in real-world scenarios, Naive Bayes can still provide reasonable results and performs particularly well when the independence assumption holds or is approximately true.\n",
    "\n",
    "### 3. Support Vector Machines (SVM):\n",
    "\n",
    "- **Effective in high-dimensional spaces:** SVM performs well in high-dimensional feature spaces, making it suitable for our data.\n",
    "\n",
    "\n",
    "- **Robust to outliers:** SVM is less sensitive to outliers compared to other algorithms. The use of the kernel trick allows SVM to capture complex relationships between data points.\n",
    "\n",
    "\n",
    "- **Versatility:** SVM can be used for both classification and regression tasks. It offers different kernel functions, such as linear, polynomial, and radial basis function (RBF), providing flexibility in capturing various data patterns.\n",
    "\n"
   ]
  },
  {
   "cell_type": "markdown",
   "id": "c98ddf79",
   "metadata": {},
   "source": [
    "\n",
    "## Clustering\n",
    "K-means clustering is chosen as the clustering technique in this project for the following reasons:\n",
    "### K-means Clustering\n",
    "- **Simplicity and Efficiency:** K-means is a simple and computationally efficient clustering algorithm. It is easy to understand and implement, making it suitable for a wide range of datasets.\n",
    "\n",
    "\n",
    "- **Interpretable Results:** K-means produces clusters that are represented by their centroids. These centroids can be easily interpreted and analyzed to gain insights into the characteristics of the different clusters. This interpretability is valuable for understanding the underlying structure of the data.\n",
    "\n",
    "\n",
    "- **Non-Hierarchical Clustering:** Unlike hierarchical clustering algorithms that create a tree-like structure, K-means generates flat clusters. This characteristic is beneficial when the aim is to assign each data point to a single cluster rather than capturing nested or overlapping clusters."
   ]
  },
  {
   "cell_type": "markdown",
   "id": "9493677a",
   "metadata": {},
   "source": [
    "\n",
    "## Association Rule Mining (ARM)\n",
    "The association rule mining technique, specifically the FP-Growth algorithm, is selected in this project for the following reasons:\n",
    "\n",
    "### FP-Growth algorithm\n",
    "\n",
    "- **Efficiency:** FP-Growth is fast, especially when dealing with large datasets. It achieves this by building a compact data structure called an FP-tree, which allows for efficient pattern mining without the need for repeated database scans.\n",
    "\n",
    "\n",
    "- **Handling Non-Binary Data:** FP-Growth can handle non-binary (integer or continuous) data directly without requiring explicit binary encoding. This allows you to work with your original values between 1 and 7 without any transformation.\n",
    "\n",
    "\n",
    "- **Flexibility:** FP-Growth allows you to specify different measures for evaluating association rules, such as support, confidence, or lift. This flexibility enables you to customize the mining process based on your specific requirements.\n"
   ]
  },
  {
   "cell_type": "markdown",
   "id": "46578127",
   "metadata": {},
   "source": [
    "---\n",
    "# Model Training "
   ]
  },
  {
   "cell_type": "markdown",
   "id": "01c0438b",
   "metadata": {},
   "source": [
    "### Split the data"
   ]
  },
  {
   "cell_type": "code",
   "execution_count": null,
   "id": "d40bdff1",
   "metadata": {},
   "outputs": [],
   "source": [
    "X_train, X_test, y_train, y_test = train_test_split(df_features, df_target, test_size=0.2, random_state=42)"
   ]
  },
  {
   "cell_type": "markdown",
   "id": "4b111698",
   "metadata": {},
   "source": [
    "## Classification"
   ]
  },
  {
   "cell_type": "markdown",
   "id": "720aff69",
   "metadata": {},
   "source": [
    "### Decision Trees:"
   ]
  },
  {
   "cell_type": "markdown",
   "id": "8f15776e",
   "metadata": {},
   "source": [
    "Create the decision tree classifier"
   ]
  },
  {
   "cell_type": "code",
   "execution_count": null,
   "id": "b111fa74",
   "metadata": {},
   "outputs": [],
   "source": [
    "DTC = DecisionTreeClassifier()"
   ]
  },
  {
   "cell_type": "markdown",
   "id": "50fa9313",
   "metadata": {},
   "source": [
    "Train the model"
   ]
  },
  {
   "cell_type": "code",
   "execution_count": null,
   "id": "7609471d",
   "metadata": {},
   "outputs": [],
   "source": [
    "DTC.fit(X_train, y_train)"
   ]
  },
  {
   "cell_type": "markdown",
   "id": "e474ec12",
   "metadata": {},
   "source": [
    "Make predictions on the test set"
   ]
  },
  {
   "cell_type": "code",
   "execution_count": null,
   "id": "03266a62",
   "metadata": {},
   "outputs": [],
   "source": [
    "DTC_pred = DTC.predict(X_test)"
   ]
  },
  {
   "cell_type": "markdown",
   "id": "c0c8e47e",
   "metadata": {},
   "source": [
    "### Naive Bayes:"
   ]
  },
  {
   "cell_type": "markdown",
   "id": "3c1dd969",
   "metadata": {},
   "source": [
    "Create the Naive Bayes classifier"
   ]
  },
  {
   "cell_type": "code",
   "execution_count": null,
   "id": "b1d11581",
   "metadata": {},
   "outputs": [],
   "source": [
    "GNB = GaussianNB()"
   ]
  },
  {
   "cell_type": "markdown",
   "id": "990916b5",
   "metadata": {},
   "source": [
    "Train the model"
   ]
  },
  {
   "cell_type": "code",
   "execution_count": null,
   "id": "ef67dbde",
   "metadata": {},
   "outputs": [],
   "source": [
    "GNB.fit(X_train, y_train)"
   ]
  },
  {
   "cell_type": "markdown",
   "id": "37bae114",
   "metadata": {},
   "source": [
    "Make predictions on the test set"
   ]
  },
  {
   "cell_type": "code",
   "execution_count": null,
   "id": "a460ecab",
   "metadata": {},
   "outputs": [],
   "source": [
    "GNB_pred = GNB.predict(X_test)"
   ]
  },
  {
   "cell_type": "markdown",
   "id": "1a523204",
   "metadata": {},
   "source": [
    "### Support Vector Machines (SVM):"
   ]
  },
  {
   "cell_type": "markdown",
   "id": "0233f369",
   "metadata": {},
   "source": [
    "Create the SVM classifier"
   ]
  },
  {
   "cell_type": "code",
   "execution_count": null,
   "id": "f72b8fd0",
   "metadata": {},
   "outputs": [],
   "source": [
    "SVM = SVC()"
   ]
  },
  {
   "cell_type": "markdown",
   "id": "bd6635b5",
   "metadata": {},
   "source": [
    "Train the model"
   ]
  },
  {
   "cell_type": "code",
   "execution_count": null,
   "id": "26612f4b",
   "metadata": {},
   "outputs": [],
   "source": [
    "SVM.fit(X_train, y_train)"
   ]
  },
  {
   "cell_type": "markdown",
   "id": "54dd3457",
   "metadata": {},
   "source": [
    "Make predictions on the test set"
   ]
  },
  {
   "cell_type": "code",
   "execution_count": null,
   "id": "e1ed5b82",
   "metadata": {},
   "outputs": [],
   "source": [
    "SVM_pred = SVM.predict(X_test)"
   ]
  },
  {
   "cell_type": "markdown",
   "id": "947b2444",
   "metadata": {},
   "source": [
    "## Clustering"
   ]
  },
  {
   "cell_type": "markdown",
   "id": "9bc761c5",
   "metadata": {},
   "source": [
    "#### Deciding the optimal number of clusters using the Elbow Method"
   ]
  },
  {
   "cell_type": "code",
   "execution_count": null,
   "id": "2c5956dd",
   "metadata": {},
   "outputs": [],
   "source": [
    "wcss_values = []\n",
    "\n",
    "for i in range(1, 11):\n",
    "    kmeans = KMeans(n_clusters=i, n_init='auto')\n",
    "    kmeans.fit(df_features)\n",
    "    \n",
    "    wcss_values.append(kmeans.inertia_)\n",
    "    "
   ]
  },
  {
   "cell_type": "markdown",
   "id": "30d54ee6",
   "metadata": {},
   "source": [
    "Plot the within-cluster sum of squares"
   ]
  },
  {
   "cell_type": "code",
   "execution_count": null,
   "id": "2d0e3991",
   "metadata": {},
   "outputs": [],
   "source": [
    "plt.figure(figsize=(8, 6))\n",
    "plt.plot(range(1, 11), wcss_values, color=color, marker='o')\n",
    "plt.title('Elbow Method', fontsize=16)\n",
    "plt.xlabel('Number of Clusters', fontsize=fontsize)\n",
    "plt.ylabel('Inertia', fontsize=fontsize)\n",
    "plt.xticks(range(1, 11), fontsize=10)\n",
    "plt.yticks(fontsize=10)\n",
    "sns.despine()\n",
    "plt.show()"
   ]
  },
  {
   "cell_type": "markdown",
   "id": "f788ed0a",
   "metadata": {},
   "source": [
    "> **Note:** From the plot, it is evident that 5 is a reasonable number of centroids for the clusters. Considering that there is no significant difference between using 5 and 6 clusters in Within-Cluster Sum of Squares (WCSS) , we will set the number of clusters to **5** ."
   ]
  },
  {
   "cell_type": "markdown",
   "id": "f7d3a0bb",
   "metadata": {},
   "source": [
    " ### K-means"
   ]
  },
  {
   "cell_type": "markdown",
   "id": "573803e3",
   "metadata": {},
   "source": [
    " Create a K-means clustering model"
   ]
  },
  {
   "cell_type": "code",
   "execution_count": null,
   "id": "fb2fb83b",
   "metadata": {},
   "outputs": [],
   "source": [
    "kmeans = KMeans(n_clusters=5, n_init='auto')"
   ]
  },
  {
   "cell_type": "markdown",
   "id": "4204dc0f",
   "metadata": {},
   "source": [
    "Fit the model to the data"
   ]
  },
  {
   "cell_type": "code",
   "execution_count": null,
   "id": "76ebbfff",
   "metadata": {},
   "outputs": [],
   "source": [
    "kmeans.fit(df_features)"
   ]
  },
  {
   "cell_type": "markdown",
   "id": "8ec15658",
   "metadata": {},
   "source": [
    "Visualize the clusters"
   ]
  },
  {
   "cell_type": "code",
   "execution_count": null,
   "id": "51456ea6",
   "metadata": {},
   "outputs": [],
   "source": [
    "df_labeles = pd.DataFrame(kmeans.labels_)\n",
    "df_labeled = pd.concat((df_features,df_labeles),axis=1)\n",
    "df_labeled = df_labeled.rename({0:'labels'},axis=1)\n",
    "\n",
    "sns.pairplot(df_labeled,hue='labels', palette = palette)"
   ]
  },
  {
   "cell_type": "markdown",
   "id": "df67b299",
   "metadata": {},
   "source": [
    "## Association Rule Mining (ARM)"
   ]
  },
  {
   "cell_type": "markdown",
   "id": "c5e592a6",
   "metadata": {},
   "source": [
    "### FP-Growth algorithm"
   ]
  },
  {
   "cell_type": "markdown",
   "id": "c7e9f969",
   "metadata": {},
   "source": [
    "Convert DataFrame to a list of transactions"
   ]
  },
  {
   "cell_type": "code",
   "execution_count": null,
   "id": "bb6c5a42",
   "metadata": {},
   "outputs": [],
   "source": [
    "transactions = df_features.values.tolist()"
   ]
  },
  {
   "cell_type": "markdown",
   "id": "c4edad06",
   "metadata": {},
   "source": [
    "Perform frequent pattern mining using FP-Growth"
   ]
  },
  {
   "cell_type": "code",
   "execution_count": null,
   "id": "7ca2af3e",
   "metadata": {},
   "outputs": [],
   "source": [
    "patterns = pyfpgrowth.find_frequent_patterns(transactions, 1)"
   ]
  },
  {
   "cell_type": "markdown",
   "id": "4613b0e2",
   "metadata": {},
   "source": [
    "Set the minimum support threshold"
   ]
  },
  {
   "cell_type": "code",
   "execution_count": null,
   "id": "473506b3",
   "metadata": {},
   "outputs": [],
   "source": [
    "min_support_threshold = 0.1"
   ]
  },
  {
   "cell_type": "markdown",
   "id": "65c8c514",
   "metadata": {},
   "source": [
    "Filter patterns based on support"
   ]
  },
  {
   "cell_type": "code",
   "execution_count": null,
   "id": "028b4470",
   "metadata": {},
   "outputs": [],
   "source": [
    "filtered_patterns = {pattern: support for pattern, support in patterns.items() if support >= min_support_threshold}"
   ]
  },
  {
   "cell_type": "markdown",
   "id": "da0651cd",
   "metadata": {},
   "source": [
    "Generate association rules"
   ]
  },
  {
   "cell_type": "code",
   "execution_count": null,
   "id": "e116f179",
   "metadata": {},
   "outputs": [],
   "source": [
    "rules = pyfpgrowth.generate_association_rules(filtered_patterns, 0.5)"
   ]
  },
  {
   "cell_type": "markdown",
   "id": "327db63c",
   "metadata": {},
   "source": [
    "Sort the rules by confidence in descending order"
   ]
  },
  {
   "cell_type": "code",
   "execution_count": null,
   "id": "17f73d1a",
   "metadata": {},
   "outputs": [],
   "source": [
    "sorted_rules = sorted(rules.items(), key=lambda x: x[1][1], reverse=True)"
   ]
  },
  {
   "cell_type": "markdown",
   "id": "1ed702a8",
   "metadata": {},
   "source": [
    "Display top 10 Rules based on Confidence"
   ]
  },
  {
   "cell_type": "code",
   "execution_count": null,
   "id": "3c9b9a1e",
   "metadata": {},
   "outputs": [],
   "source": [
    "count = 1\n",
    "for rule, (support,confidence) in sorted_rules:\n",
    "    if count > 10 :\n",
    "        break\n",
    "    if support and confidence:\n",
    "        print(f\"Rule {count}: {rule} Support: {support} Confidence: {confidence}\")\n",
    "        count= count +1"
   ]
  },
  {
   "cell_type": "markdown",
   "id": "2e4b58b0",
   "metadata": {},
   "source": [
    "---\n",
    "# Model Evaluation"
   ]
  },
  {
   "cell_type": "markdown",
   "id": "c147d206",
   "metadata": {},
   "source": [
    "## Classification"
   ]
  },
  {
   "cell_type": "markdown",
   "id": "ce1dfda6",
   "metadata": {},
   "source": [
    "### Calculate evaluation metrics"
   ]
  },
  {
   "cell_type": "markdown",
   "id": "6caab438",
   "metadata": {},
   "source": [
    " Decision Tree"
   ]
  },
  {
   "cell_type": "code",
   "execution_count": null,
   "id": "e0e2d4b2",
   "metadata": {},
   "outputs": [],
   "source": [
    "DTC_accuracy = accuracy_score(y_test, DTC_pred)\n",
    "DTC_precision = precision_score(y_test, DTC_pred, average='macro')\n",
    "DTC_recall = recall_score(y_test, DTC_pred, average='macro')\n",
    "DTC_f1 = f1_score(y_test, DTC_pred, average='macro')\n",
    "DTC_scores = [DTC_accuracy, DTC_precision, DTC_recall, DTC_f1]"
   ]
  },
  {
   "cell_type": "markdown",
   "id": "10b49648",
   "metadata": {},
   "source": [
    "Naive Bayes"
   ]
  },
  {
   "cell_type": "code",
   "execution_count": null,
   "id": "32621c78",
   "metadata": {},
   "outputs": [],
   "source": [
    "GNB_accuracy = accuracy_score(y_test, GNB_pred)\n",
    "GNB_precision = precision_score(y_test, GNB_pred, average='macro')\n",
    "GNB_recall = recall_score(y_test, GNB_pred, average='macro')\n",
    "GNB_f1 = f1_score(y_test, GNB_pred, average='macro')\n",
    "GNB_scores = [GNB_accuracy, GNB_precision, GNB_recall, GNB_f1]"
   ]
  },
  {
   "cell_type": "markdown",
   "id": "cba45408",
   "metadata": {},
   "source": [
    " Support Vector Machines (SVM)"
   ]
  },
  {
   "cell_type": "code",
   "execution_count": null,
   "id": "94bbeb4f",
   "metadata": {},
   "outputs": [],
   "source": [
    "SVM_accuracy = accuracy_score(y_test, SVM_pred)\n",
    "SVM_precision = precision_score(y_test, SVM_pred, average='weighted')\n",
    "SVM_recall = recall_score(y_test, SVM_pred, average='weighted')\n",
    "SVM_f1 = f1_score(y_test, SVM_pred, average='weighted')\n",
    "SVM_scores = [SVM_accuracy, SVM_precision, SVM_recall, SVM_f1]"
   ]
  },
  {
   "cell_type": "markdown",
   "id": "e4f39614",
   "metadata": {},
   "source": [
    "### Plot the Result"
   ]
  },
  {
   "cell_type": "markdown",
   "id": "c410d5b5",
   "metadata": {},
   "source": [
    "#### Compare the Models"
   ]
  },
  {
   "cell_type": "code",
   "execution_count": null,
   "id": "bec79176",
   "metadata": {},
   "outputs": [],
   "source": [
    "metrics = ['Accuracy', 'Precision', 'Recall', 'F1 Score']\n",
    "\n",
    "x = range(len(metrics))\n",
    "\n",
    "plt.figure(figsize=(10, 6))\n",
    "\n",
    "plt.plot(x, DTC_scores, label='Decision Tree', marker='o', color = '#51C4D3')\n",
    "plt.plot(x, GNB_scores, label='Gaussian Naive Bayes', marker='o',color = '#126E82')\n",
    "plt.plot(x, SVM_scores, label='Support Vector Machines', marker='o',color = '#132C33')\n",
    "\n",
    "plt.xticks(x, metrics)\n",
    "plt.ylabel('Score')\n",
    "plt.title('Evaluation Metrics Comparison')\n",
    "plt.legend()\n",
    "plt.grid(True, linestyle='--', alpha=0.5)\n",
    "\n",
    "\n",
    "plt.show()"
   ]
  },
  {
   "cell_type": "markdown",
   "id": "6c8d5018",
   "metadata": {},
   "source": [
    "#### plot the confusion matrix"
   ]
  },
  {
   "cell_type": "code",
   "execution_count": null,
   "id": "ee78d5d7",
   "metadata": {
    "scrolled": true
   },
   "outputs": [],
   "source": [
    "classifiers = [DTC, GNB, SVM]\n",
    "classifier_names = ['Decision Tree', 'Gaussian Naive Bayes', 'Support Vector Machines'] \n",
    "class_names = DTC.classes_\n",
    "\n",
    "fig, axes = plt.subplots(nrows=1, ncols=len(classifiers), figsize=(15, 5))\n",
    "\n",
    "for i, clf in enumerate(classifiers):\n",
    "    y_pred = clf.predict(X_test)\n",
    "    cm = confusion_matrix(y_test, y_pred)\n",
    "    sns.heatmap(cm, annot=True, cmap='Blues', fmt='d', ax=axes[i], xticklabels=class_names, yticklabels=class_names)\n",
    "    axes[i].set_title(classifier_names[i])\n",
    "    axes[i].set_xlabel('Predicted')\n",
    "    axes[i].set_ylabel('True')\n",
    "\n",
    "plt.tight_layout()\n",
    "plt.show()"
   ]
  },
  {
   "cell_type": "markdown",
   "id": "c8f54899",
   "metadata": {},
   "source": [
    "## Clustering"
   ]
  },
  {
   "cell_type": "markdown",
   "id": "187296b9",
   "metadata": {},
   "source": [
    " ### K-means"
   ]
  },
  {
   "cell_type": "markdown",
   "id": "b328ffc1",
   "metadata": {},
   "source": [
    "#### Silhouette Coefficients Score"
   ]
  },
  {
   "cell_type": "code",
   "execution_count": null,
   "id": "f6ca1eaa",
   "metadata": {},
   "outputs": [],
   "source": [
    "labels = kmeans.labels_\n",
    "silhouette_vals = silhouette_samples(df_features, labels)\n",
    "silhouette_avg = np.mean(silhouette_vals)\n",
    "\n",
    "fig, ax = plt.subplots(figsize=(10, 6))\n",
    "y_lower = 10\n",
    "\n",
    "for i in range(5):\n",
    "    \n",
    "    cluster_silhouette_vals = silhouette_vals[labels == i]\n",
    "    cluster_silhouette_vals.sort()\n",
    "    cluster_size = cluster_silhouette_vals.shape[0]\n",
    "    y_upper = y_lower + cluster_size\n",
    "    color = sns.color_palette(\"hls\", 7)[i+2]\n",
    "    ax.fill_betweenx(range(y_lower, y_upper), 0, cluster_silhouette_vals, facecolor=color, alpha=0.7)\n",
    "    ax.text(-0.05, y_lower + 0.5 * cluster_size, str(i+1))\n",
    "    y_lower = y_upper + 10\n",
    "    \n",
    "ax.set_title('Silhouette Plot')\n",
    "ax.set_xlabel('Silhouette Coefficients')\n",
    "ax.set_ylabel('Cluster')\n",
    "\n",
    "ax.axvline(x=silhouette_avg, color='red', linestyle='--', linewidth=1, label='Average Score')\n",
    "ax.text(silhouette_avg + 0.01, 0, f'{silhouette_avg:.2f}', color='red', verticalalignment='center')\n",
    "\n",
    "ax.legend()\n",
    "plt.show()"
   ]
  },
  {
   "cell_type": "markdown",
   "id": "1724680a",
   "metadata": {},
   "source": [
    "## Association Rule Mining (ARM)"
   ]
  },
  {
   "cell_type": "markdown",
   "id": "c5e02631",
   "metadata": {},
   "source": [
    "### FP-Growth algorithm"
   ]
  },
  {
   "cell_type": "code",
   "execution_count": null,
   "id": "2d481509",
   "metadata": {},
   "outputs": [],
   "source": []
  },
  {
   "cell_type": "code",
   "execution_count": null,
   "id": "0cc08e70",
   "metadata": {},
   "outputs": [],
   "source": []
  },
  {
   "cell_type": "markdown",
   "id": "9592c263",
   "metadata": {},
   "source": [
    "# Interpretation of Results"
   ]
  },
  {
   "cell_type": "markdown",
   "id": "c96ec0a0",
   "metadata": {},
   "source": [
    "results showcase and analysis "
   ]
  },
  {
   "cell_type": "code",
   "execution_count": null,
   "id": "1a903fda",
   "metadata": {},
   "outputs": [],
   "source": []
  },
  {
   "cell_type": "markdown",
   "id": "43bf0916",
   "metadata": {},
   "source": [
    "conclusion"
   ]
  }
 ],
 "metadata": {
  "kernelspec": {
   "display_name": "Python 3 (ipykernel)",
   "language": "python",
   "name": "python3"
  },
  "language_info": {
   "codemirror_mode": {
    "name": "ipython",
    "version": 3
   },
   "file_extension": ".py",
   "mimetype": "text/x-python",
   "name": "python",
   "nbconvert_exporter": "python",
   "pygments_lexer": "ipython3",
   "version": "3.9.16"
  }
 },
 "nbformat": 4,
 "nbformat_minor": 5
}
